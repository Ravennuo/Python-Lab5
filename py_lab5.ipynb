{
 "cells": [
  {
   "cell_type": "markdown",
   "id": "5b7e7c78",
   "metadata": {},
   "source": [
    "## Lab 5"
   ]
  },
  {
   "cell_type": "code",
   "execution_count": null,
   "id": "657e8b33",
   "metadata": {},
   "outputs": [],
   "source": [
    "ls = [5, 4, 17, 19, 30, 2, 7, 10, 45]"
   ]
  },
  {
   "cell_type": "markdown",
   "id": "f3c086aa",
   "metadata": {},
   "source": [
    "### Q1: Sum program"
   ]
  },
  {
   "cell_type": "code",
   "execution_count": 60,
   "id": "a0299c0c",
   "metadata": {},
   "outputs": [
    {
     "name": "stdout",
     "output_type": "stream",
     "text": [
      "139\n"
     ]
    }
   ],
   "source": [
    "sum = 0\n",
    "for i in ls:\n",
    "    sum += i\n",
    "print(sum)"
   ]
  },
  {
   "cell_type": "markdown",
   "id": "977fd2e3",
   "metadata": {},
   "source": [
    "### Q2: Max program"
   ]
  },
  {
   "cell_type": "code",
   "execution_count": 62,
   "id": "f17f77c7",
   "metadata": {},
   "outputs": [
    {
     "name": "stdout",
     "output_type": "stream",
     "text": [
      "45\n"
     ]
    }
   ],
   "source": [
    "Largest = ls[0]\n",
    "for i in ls:\n",
    "    if i > Largest:\n",
    "        Largest = i\n",
    "print(Largest)"
   ]
  },
  {
   "cell_type": "markdown",
   "id": "a5da48c3",
   "metadata": {},
   "source": [
    "### Q3: list comprehension for even numbers"
   ]
  },
  {
   "cell_type": "code",
   "execution_count": 68,
   "id": "051fd859",
   "metadata": {},
   "outputs": [
    {
     "name": "stdout",
     "output_type": "stream",
     "text": [
      "[4, 30, 2, 10]\n"
     ]
    }
   ],
   "source": [
    "lc = [i for i in ls if i % 2 == 0]\n",
    "print(lc)"
   ]
  },
  {
   "cell_type": "markdown",
   "id": "660b4430",
   "metadata": {},
   "source": [
    "### Q4: list slicing to the 5th element"
   ]
  },
  {
   "cell_type": "code",
   "execution_count": 75,
   "id": "8321a82b",
   "metadata": {},
   "outputs": [
    {
     "name": "stdout",
     "output_type": "stream",
     "text": [
      "[5, 4, 17, 19, 30]\n"
     ]
    }
   ],
   "source": [
    "ls2 = ls[:5]\n",
    "print(ls2)"
   ]
  }
 ],
 "metadata": {
  "kernelspec": {
   "display_name": "Python 3 (ipykernel)",
   "language": "python",
   "name": "python3"
  },
  "language_info": {
   "codemirror_mode": {
    "name": "ipython",
    "version": 3
   },
   "file_extension": ".py",
   "mimetype": "text/x-python",
   "name": "python",
   "nbconvert_exporter": "python",
   "pygments_lexer": "ipython3",
   "version": "3.11.3"
  }
 },
 "nbformat": 4,
 "nbformat_minor": 5
}
